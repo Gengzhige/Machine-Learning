{
 "cells": [
  {
   "cell_type": "markdown",
   "id": "dfc9b506",
   "metadata": {},
   "source": [
    "## 数据准备"
   ]
  },
  {
   "cell_type": "code",
   "execution_count": 1,
   "id": "7ec6d597",
   "metadata": {},
   "outputs": [],
   "source": [
    "import numpy as np\n",
    "state = np.array(['认真复习', '简单复习', '没有复习'])\n",
    "grade = np.array(['A+', 'A', 'A-', 'B+', 'B', 'B-', 'C+', 'C', 'C-'])\n",
    "n_state = len(state)\n",
    "m_grade = len(grade)\n",
    "pi = np.ones(n_state)/n_state\n",
    "t = np.array([\n",
    "    [0.4, 0.3, 0.3],\n",
    "    [0.3, 0.4, 0.3],\n",
    "    [0.3, 0.3, 0.4]\n",
    "])\n",
    "e = np.zeros([3,9])\n",
    "e[0, :9]=1/9\n",
    "e[1, 3:9]=1/6\n",
    "e[2, 5:9]=1/4"
   ]
  },
  {
   "cell_type": "code",
   "execution_count": 2,
   "id": "41afdecb",
   "metadata": {},
   "outputs": [
    {
     "name": "stdout",
     "output_type": "stream",
     "text": [
      "初始概率矩阵：\n",
      " [0.33333333 0.33333333 0.33333333]\n",
      "转移矩阵：\n",
      " [[0.4 0.3 0.3]\n",
      " [0.3 0.4 0.3]\n",
      " [0.3 0.3 0.4]]\n",
      "发射矩阵：\n",
      " [[0.11111111 0.11111111 0.11111111 0.11111111 0.11111111 0.11111111\n",
      "  0.11111111 0.11111111 0.11111111]\n",
      " [0.         0.         0.         0.16666667 0.16666667 0.16666667\n",
      "  0.16666667 0.16666667 0.16666667]\n",
      " [0.         0.         0.         0.         0.         0.25\n",
      "  0.25       0.25       0.25      ]]\n"
     ]
    }
   ],
   "source": [
    "print(\"初始概率矩阵：\\n\",pi)\n",
    "print(\"转移矩阵：\\n\",t)\n",
    "print(\"发射矩阵：\\n\",e)"
   ]
  },
  {
   "cell_type": "markdown",
   "id": "77f75ea5",
   "metadata": {},
   "source": [
    "## hmmlearn"
   ]
  },
  {
   "cell_type": "code",
   "execution_count": 3,
   "id": "cac301f8",
   "metadata": {},
   "outputs": [
    {
     "name": "stdout",
     "output_type": "stream",
     "text": [
      "Looking in indexes: http://mirrors.tencentyun.com/pypi/simple\n",
      "Requirement already satisfied: hmmlearn in /home/ubuntu/.local/lib/python3.8/site-packages (0.2.8)\n",
      "Requirement already satisfied: scikit-learn>=0.16 in /home/ubuntu/.local/lib/python3.8/site-packages (from hmmlearn) (1.1.2)\n",
      "Requirement already satisfied: scipy>=0.19 in /usr/local/lib/python3.8/dist-packages (from hmmlearn) (1.8.0)\n",
      "Requirement already satisfied: numpy>=1.10 in /usr/local/lib/python3.8/dist-packages (from hmmlearn) (1.22.2)\n",
      "Requirement already satisfied: threadpoolctl>=2.0.0 in /home/ubuntu/.local/lib/python3.8/site-packages (from scikit-learn>=0.16->hmmlearn) (3.1.0)\n",
      "Requirement already satisfied: joblib>=1.0.0 in /home/ubuntu/.local/lib/python3.8/site-packages (from scikit-learn>=0.16->hmmlearn) (1.1.0)\n",
      "Note: you may need to restart the kernel to use updated packages.\n"
     ]
    }
   ],
   "source": [
    "pip install hmmlearn"
   ]
  },
  {
   "cell_type": "code",
   "execution_count": 4,
   "id": "f83283b9",
   "metadata": {},
   "outputs": [],
   "source": [
    "from hmmlearn.hmm import CategoricalHMM\n",
    "hmm = CategoricalHMM(n_state)"
   ]
  },
  {
   "cell_type": "code",
   "execution_count": 5,
   "id": "427fe1e7",
   "metadata": {},
   "outputs": [],
   "source": [
    "hmm.startprob_ = pi\n",
    "hmm.transmat_ = t\n",
    "hmm.emissionprob_ = e\n",
    "hmm.n_feature = 9"
   ]
  },
  {
   "cell_type": "code",
   "execution_count": 6,
   "id": "ec552b9a",
   "metadata": {},
   "outputs": [],
   "source": [
    "datas = np.array([0, 4, 2, 6, 1])\n",
    "datas = np.expand_dims(datas, axis=1)\n",
    "states = hmm.predict(datas)"
   ]
  },
  {
   "cell_type": "code",
   "execution_count": 7,
   "id": "26a31c80",
   "metadata": {},
   "outputs": [
    {
     "data": {
      "text/plain": [
       "array([0, 0, 0, 2, 0])"
      ]
     },
     "execution_count": 7,
     "metadata": {},
     "output_type": "execute_result"
    }
   ],
   "source": [
    "states"
   ]
  },
  {
   "cell_type": "code",
   "execution_count": 8,
   "id": "4cbffdc1",
   "metadata": {},
   "outputs": [
    {
     "data": {
      "text/plain": [
       "-14.003674820375014"
      ]
     },
     "execution_count": 8,
     "metadata": {},
     "output_type": "execute_result"
    }
   ],
   "source": [
    "prob = hmm.score(datas)\n",
    "prob"
   ]
  },
  {
   "cell_type": "code",
   "execution_count": 9,
   "id": "56ce8b7b",
   "metadata": {},
   "outputs": [
    {
     "name": "stdout",
     "output_type": "stream",
     "text": [
      "8.284786081615825e-07\n"
     ]
    }
   ],
   "source": [
    "print(np.exp(prob))"
   ]
  },
  {
   "cell_type": "code",
   "execution_count": 10,
   "id": "b0b7fdee",
   "metadata": {},
   "outputs": [],
   "source": [
    "datas , states = hmm.sample(10000)"
   ]
  },
  {
   "cell_type": "code",
   "execution_count": 11,
   "id": "c9f46797",
   "metadata": {},
   "outputs": [
    {
     "name": "stdout",
     "output_type": "stream",
     "text": [
      "[[0.41121495 0.29333735 0.29544769]\n",
      " [0.28884285 0.40988458 0.30127257]\n",
      " [0.29627386 0.30930021 0.39442593]]\n"
     ]
    }
   ],
   "source": [
    "t_2 = np.zeros([3,3])\n",
    "for i in range(3):\n",
    "    current = np.where(states == i)[0]\n",
    "    next_index = current+1\n",
    "    next_index = next_index[:-1]\n",
    "\n",
    "    tmp = states[next_index]\n",
    "    for j in range(3):\n",
    "        t_2[i][j] = np.where(tmp==j)[0].shape[0]/np.shape(tmp)[0]\n",
    "print(t_2)"
   ]
  },
  {
   "cell_type": "code",
   "execution_count": 12,
   "id": "3fd643cd",
   "metadata": {},
   "outputs": [
    {
     "name": "stdout",
     "output_type": "stream",
     "text": [
      "[[0.10518385 0.10066305 0.11030741 0.11603376 0.11000603 0.1106088\n",
      "  0.12115732 0.12085594 0.10518385]\n",
      " [0.         0.         0.         0.1760355  0.15591716 0.16242604\n",
      "  0.17071006 0.16952663 0.16538462]\n",
      " [0.         0.         0.         0.         0.         0.24863719\n",
      "  0.25741975 0.24500303 0.24894004]]\n"
     ]
    }
   ],
   "source": [
    "e_2 = np.zeros([3,9])\n",
    "for i in range(3):\n",
    "    current = np.where(states == i)[0]\n",
    "    next_index = current+1\n",
    "    next_index = next_index[:-1]\n",
    "    tmp = datas[current]\n",
    "    for j in range(9):\n",
    "        e_2[i][j] = np.where(tmp==j)[0].shape[0]/np.shape(tmp)[0]\n",
    "print(e_2)"
   ]
  },
  {
   "cell_type": "code",
   "execution_count": null,
   "id": "8705653a",
   "metadata": {},
   "outputs": [],
   "source": []
  }
 ],
 "metadata": {
  "kernelspec": {
   "display_name": "Python 3 (ipykernel)",
   "language": "python",
   "name": "python3"
  },
  "language_info": {
   "codemirror_mode": {
    "name": "ipython",
    "version": 3
   },
   "file_extension": ".py",
   "mimetype": "text/x-python",
   "name": "python",
   "nbconvert_exporter": "python",
   "pygments_lexer": "ipython3",
   "version": "3.8.10"
  }
 },
 "nbformat": 4,
 "nbformat_minor": 5
}
