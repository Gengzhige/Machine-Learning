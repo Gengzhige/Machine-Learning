{
 "cells": [
  {
   "cell_type": "markdown",
   "id": "b857358c",
   "metadata": {},
   "source": [
    "### 生成数据集"
   ]
  },
  {
   "cell_type": "code",
   "execution_count": 1,
   "id": "6d4e0467",
   "metadata": {},
   "outputs": [],
   "source": [
    "import numpy as np \n",
    "from matplotlib import pyplot as plt\n",
    "from sklearn.datasets import make_blobs"
   ]
  },
  {
   "cell_type": "code",
   "execution_count": 4,
   "id": "a290ef9c",
   "metadata": {},
   "outputs": [],
   "source": [
    "x, y = make_blobs(\n",
    "    n_samples = 300,\n",
    "    n_features = 2,\n",
    "    centers = 3,\n",
    "    cluster_std = 1,\n",
    "    center_box = (-10, 10),\n",
    "    random_state = 233,\n",
    "    return_centers = False\n",
    ")"
   ]
  },
  {
   "cell_type": "code",
   "execution_count": 5,
   "id": "dad9f309",
   "metadata": {},
   "outputs": [
    {
     "data": {
      "image/png": "[encoded data removed]",
      "text/plain": [
       "<Figure size 432x288 with 1 Axes>"
      ]
     },
     "metadata": {
      "needs_background": "light"
     },
     "output_type": "display_data"
    }
   ],
   "source": [
    "plt.scatter(x[:,0], x[:,1], c = y,s = 15)\n",
    "plt.show()"
   ]
  },
  {
   "cell_type": "markdown",
   "id": "2f0184f8",
   "metadata": {},
   "source": [
    "### 划分数据集"
   ]
  },
  {
   "cell_type": "code",
   "execution_count": 6,
   "id": "64212fa8",
   "metadata": {},
   "outputs": [],
   "source": [
    "index = np.arange(20)"
   ]
  },
  {
   "cell_type": "code",
   "execution_count": 7,
   "id": "fe07e194",
   "metadata": {},
   "outputs": [
    {
     "data": {
      "text/plain": [
       "array([ 0,  1,  2,  3,  4,  5,  6,  7,  8,  9, 10, 11, 12, 13, 14, 15, 16,\n",
       "       17, 18, 19])"
      ]
     },
     "execution_count": 7,
     "metadata": {},
     "output_type": "execute_result"
    }
   ],
   "source": [
    "index"
   ]
  },
  {
   "cell_type": "code",
   "execution_count": 8,
   "id": "32e45cc5",
   "metadata": {},
   "outputs": [],
   "source": [
    "np.random.shuffle(index)"
   ]
  },
  {
   "cell_type": "code",
   "execution_count": 9,
   "id": "81a9cc8e",
   "metadata": {},
   "outputs": [
    {
     "data": {
      "text/plain": [
       "array([13, 16,  2, 19,  7, 14,  9,  0,  1, 11,  8,  6, 15, 10,  4, 18,  3,\n",
       "       12, 17,  5])"
      ]
     },
     "execution_count": 9,
     "metadata": {},
     "output_type": "execute_result"
    }
   ],
   "source": [
    "index"
   ]
  },
  {
   "cell_type": "code",
   "execution_count": 10,
   "id": "d8abf36e",
   "metadata": {},
   "outputs": [
    {
     "data": {
      "text/plain": [
       "array([12, 19,  6,  7, 11, 10,  4,  8, 16,  3,  2, 15, 18,  5,  9,  0,  1,\n",
       "       14, 13, 17])"
      ]
     },
     "execution_count": 10,
     "metadata": {},
     "output_type": "execute_result"
    }
   ],
   "source": [
    "np.random.permutation(20)"
   ]
  },
  {
   "cell_type": "code",
   "execution_count": 11,
   "id": "1d4bf539",
   "metadata": {},
   "outputs": [],
   "source": [
    "np.random.seed(233)\n",
    "shuffle = np.random.permutation(len(x))"
   ]
  },
  {
   "cell_type": "code",
   "execution_count": 12,
   "id": "85376e4d",
   "metadata": {},
   "outputs": [
    {
     "data": {
      "text/plain": [
       "array([ 23,  86, 204, 287, 206, 170, 234,  94, 146, 180, 263,  22,   3,\n",
       "       264, 194, 290, 229, 177, 208, 202,  10, 188, 262, 120, 148, 121,\n",
       "        98, 160, 267, 136, 294,   2,  34, 142, 271, 133, 127,  12,  29,\n",
       "        49, 112, 218,  36,  57,  45,  11,  25, 151, 212, 289, 157,  19,\n",
       "       275, 176, 144,  82, 161,  77,  51, 152, 135,  16,  65, 189, 298,\n",
       "       279,  37, 187,  44, 210, 178, 165,   6, 162,  66,  32, 198,  43,\n",
       "       108, 211,  67, 119, 284,  90,  89,  56, 217, 158, 228, 248, 191,\n",
       "        47, 296, 123, 181, 200,  40,  87, 232,  97, 113, 122, 220, 153,\n",
       "       173,  68,  99,  61, 273, 269, 281, 209,   4, 110, 259,  95, 205,\n",
       "       288,   8, 283, 231, 291, 171, 111, 242, 216, 285,  54, 100,  38,\n",
       "       185, 235, 174, 201, 107, 223, 222, 196, 268, 114, 147, 166,  85,\n",
       "        39,  58, 256, 258,  74, 251,  15, 150, 137,  70,  91,  52,  14,\n",
       "       169,  21, 184, 207, 238, 128, 219, 125, 293, 134,  27, 265,  96,\n",
       "       270,  18, 109, 126, 203,  88, 249,  92, 213,  60, 227,   5,  59,\n",
       "         9, 138, 236, 280, 124, 199, 225, 149, 145, 246, 192, 102,  48,\n",
       "        73,  20,  31,  63, 237,  78,  62, 233, 118, 277,  28,  50,  64,\n",
       "       117, 197, 140,   7, 105, 252,  71, 190,  76, 103,  93, 183,  72,\n",
       "         0, 278,  79, 172, 214, 182, 292, 139, 260,  30, 195,  13, 244,\n",
       "       240, 297, 257, 245, 143, 186, 243, 266, 286, 168, 179,  81, 215,\n",
       "       129, 167, 106, 261,  42, 276,  69, 224, 253, 247, 155, 154,  17,\n",
       "       132,  24, 141, 239,  80, 101,  75, 159, 116,  46, 272, 226,  83,\n",
       "       156,  33, 115, 282, 299,  55, 250, 221, 254, 255,  41, 130, 104,\n",
       "        26,  53,  84, 274,   1, 163, 230,  35, 241, 164, 193, 175, 131,\n",
       "       295])"
      ]
     },
     "execution_count": 12,
     "metadata": {},
     "output_type": "execute_result"
    }
   ],
   "source": [
    "shuffle"
   ]
  },
  {
   "cell_type": "code",
   "execution_count": 13,
   "id": "eaa0a901",
   "metadata": {},
   "outputs": [
    {
     "data": {
      "text/plain": [
       "(300,)"
      ]
     },
     "execution_count": 13,
     "metadata": {},
     "output_type": "execute_result"
    }
   ],
   "source": [
    "shuffle.shape"
   ]
  },
  {
   "cell_type": "code",
   "execution_count": 14,
   "id": "70fb9d47",
   "metadata": {},
   "outputs": [],
   "source": [
    "train_size = 0.7"
   ]
  },
  {
   "cell_type": "code",
   "execution_count": 15,
   "id": "7dd8b07a",
   "metadata": {},
   "outputs": [],
   "source": [
    "train_index = shuffle[:int(len(x) * train_size)]"
   ]
  },
  {
   "cell_type": "code",
   "execution_count": 16,
   "id": "5e52e7ef",
   "metadata": {},
   "outputs": [],
   "source": [
    "test_index = shuffle[int(len(x) * train_size):]"
   ]
  },
  {
   "cell_type": "code",
   "execution_count": 17,
   "id": "12b51c15",
   "metadata": {},
   "outputs": [
    {
     "data": {
      "text/plain": [
       "((210,), (90,))"
      ]
     },
     "execution_count": 17,
     "metadata": {},
     "output_type": "execute_result"
    }
   ],
   "source": [
    "train_index.shape, test_index.shape"
   ]
  },
  {
   "cell_type": "code",
   "execution_count": 18,
   "id": "0fb50b65",
   "metadata": {},
   "outputs": [
    {
     "data": {
      "text/plain": [
       "((210, 2), (210,))"
      ]
     },
     "execution_count": 18,
     "metadata": {},
     "output_type": "execute_result"
    }
   ],
   "source": [
    "x[train_index].shape, y[train_index].shape"
   ]
  },
  {
   "cell_type": "code",
   "execution_count": 19,
   "id": "45e4698f",
   "metadata": {},
   "outputs": [
    {
     "data": {
      "text/plain": [
       "((90, 2), (90,))"
      ]
     },
     "execution_count": 19,
     "metadata": {},
     "output_type": "execute_result"
    }
   ],
   "source": [
    "x[test_index].shape, y[test_index].shape"
   ]
  },
  {
   "cell_type": "code",
   "execution_count": 20,
   "id": "1055555f",
   "metadata": {},
   "outputs": [],
   "source": [
    "def my_train_test_split(x, y, train_size = 0.7, random_state = None):\n",
    "    if random_state:\n",
    "        np.random.seed(random_state)\n",
    "    shuffle = np.random.permutation(len(x))\n",
    "    train_index = shuffle[:int(len(x) * train_size)]\n",
    "    test_index = shuffle[int(len(x) * train_size):]\n",
    "    return x[train_index], x[test_index], y[train_index], y[test_index]"
   ]
  },
  {
   "cell_type": "code",
   "execution_count": 21,
   "id": "a0d75acc",
   "metadata": {},
   "outputs": [],
   "source": [
    "x_train, x_test, y_train, y_test = my_train_test_split(x, y, train_size = 0.7, random_state = 233)"
   ]
  },
  {
   "cell_type": "code",
   "execution_count": 22,
   "id": "c94b2e57",
   "metadata": {},
   "outputs": [
    {
     "data": {
      "text/plain": [
       "((210, 2), (90, 2), (210,), (90,))"
      ]
     },
     "execution_count": 22,
     "metadata": {},
     "output_type": "execute_result"
    }
   ],
   "source": [
    "x_train.shape, x_test.shape, y_train.shape, y_test.shape"
   ]
  },
  {
   "cell_type": "code",
   "execution_count": 23,
   "id": "93700430",
   "metadata": {},
   "outputs": [
    {
     "data": {
      "image/png": "[encoded data removed]",
      "text/plain": [
       "<Figure size 432x288 with 1 Axes>"
      ]
     },
     "metadata": {
      "needs_background": "light"
     },
     "output_type": "display_data"
    }
   ],
   "source": [
    "plt.scatter(x_train[:, 0], x_train[:, 1], c = y_train, s = 15)\n",
    "plt.show()"
   ]
  },
  {
   "cell_type": "code",
   "execution_count": 24,
   "id": "e201552a",
   "metadata": {},
   "outputs": [
    {
     "data": {
      "image/png": "[encoded data removed]",
      "text/plain": [
       "<Figure size 432x288 with 1 Axes>"
      ]
     },
     "metadata": {
      "needs_background": "light"
     },
     "output_type": "display_data"
    }
   ],
   "source": [
    "plt.scatter(x_test[:, 0], x_test[:, 1], c = y_test, s = 15)\n",
    "plt.show()"
   ]
  },
  {
   "cell_type": "markdown",
   "id": "732eaefd",
   "metadata": {},
   "source": [
    "### sklearn划分数据集"
   ]
  },
  {
   "cell_type": "code",
   "execution_count": 25,
   "id": "7ce8f8a4",
   "metadata": {},
   "outputs": [],
   "source": [
    "from sklearn.model_selection import train_test_split"
   ]
  },
  {
   "cell_type": "code",
   "execution_count": 26,
   "id": "b0c8760d",
   "metadata": {},
   "outputs": [],
   "source": [
    "x_train, x_test, y_train, y_test = train_test_split(x, y, train_size = 0.7, random_state = 233)"
   ]
  },
  {
   "cell_type": "code",
   "execution_count": 27,
   "id": "029cab85",
   "metadata": {},
   "outputs": [
    {
     "data": {
      "text/plain": [
       "((210, 2), (90, 2), (210,), (90,))"
      ]
     },
     "execution_count": 27,
     "metadata": {},
     "output_type": "execute_result"
    }
   ],
   "source": [
    "x_train.shape, x_test.shape, y_train.shape, y_test.shape"
   ]
  },
  {
   "cell_type": "code",
   "execution_count": 28,
   "id": "4e8e2035",
   "metadata": {},
   "outputs": [
    {
     "data": {
      "text/plain": [
       "Counter({2: 34, 0: 25, 1: 31})"
      ]
     },
     "execution_count": 28,
     "metadata": {},
     "output_type": "execute_result"
    }
   ],
   "source": [
    "from collections import Counter\n",
    "Counter(y_test)"
   ]
  },
  {
   "cell_type": "code",
   "execution_count": 29,
   "id": "82424d4b",
   "metadata": {},
   "outputs": [],
   "source": [
    "x_train, x_test, y_train, y_test = train_test_split(x, y, train_size = 0.7, random_state = 233, stratify = y)"
   ]
  },
  {
   "cell_type": "code",
   "execution_count": 30,
   "id": "a97cb652",
   "metadata": {},
   "outputs": [
    {
     "data": {
      "text/plain": [
       "Counter({2: 30, 0: 30, 1: 30})"
      ]
     },
     "execution_count": 30,
     "metadata": {},
     "output_type": "execute_result"
    }
   ],
   "source": [
    "Counter(y_test)"
   ]
  },
  {
   "cell_type": "code",
   "execution_count": null,
   "id": "ece27b86",
   "metadata": {},
   "outputs": [],
   "source": []
  }
 ],
 "metadata": {
  "kernelspec": {
   "display_name": "Python 3 (ipykernel)",
   "language": "python",
   "name": "python3"
  },
  "language_info": {
   "codemirror_mode": {
    "name": "ipython",
    "version": 3
   },
   "file_extension": ".py",
   "mimetype": "text/x-python",
   "name": "python",
   "nbconvert_exporter": "python",
   "pygments_lexer": "ipython3",
   "version": "3.8.10"
  }
 },
 "nbformat": 4,
 "nbformat_minor": 5
}
