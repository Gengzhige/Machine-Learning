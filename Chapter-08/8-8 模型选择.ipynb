{
 "cells": [
  {
   "cell_type": "markdown",
   "id": "18ec62eb",
   "metadata": {},
   "source": [
    "## 不同模型比较"
   ]
  },
  {
   "cell_type": "code",
   "execution_count": 1,
   "id": "53ce4a08",
   "metadata": {},
   "outputs": [],
   "source": [
    "from sklearn import datasets\n",
    "import warnings\n",
    "warnings.filterwarnings('ignore')"
   ]
  },
  {
   "cell_type": "code",
   "execution_count": 2,
   "id": "909689ba",
   "metadata": {},
   "outputs": [],
   "source": [
    "import numpy as np\n",
    "\n",
    "from sklearn.neighbors import KNeighborsClassifier\n",
    "\n",
    "from sklearn.tree import DecisionTreeClassifier\n",
    "\n",
    "from sklearn.linear_model import LogisticRegression\n",
    "from sklearn.preprocessing import PolynomialFeatures\n",
    "from sklearn.pipeline import Pipeline\n",
    "from sklearn.preprocessing import StandardScaler\n",
    "\n",
    "from sklearn.model_selection import cross_val_score\n",
    "\n",
    "\n",
    "def model_selection(x, y, cv):\n",
    "\n",
    "    knn = KNeighborsClassifier(n_neighbors=3)\n",
    "    dt = DecisionTreeClassifier(max_depth=5)\n",
    "    lr = Pipeline([\n",
    "        ('poly', PolynomialFeatures(degree=2)),\n",
    "        ('log_reg', LogisticRegression())\n",
    "         ])\n",
    "    \n",
    "    print('knn_score:%f, dt_score:%f, lr_score:%f'%(\n",
    "        np.mean(cross_val_score(knn, x, y, cv = 5)),\n",
    "        np.mean(cross_val_score(lr, x, y, cv = 5)),\n",
    "        np.mean(cross_val_score(dt, x, y, cv = 5))))\n"
   ]
  },
  {
   "cell_type": "code",
   "execution_count": 3,
   "id": "4d57f972",
   "metadata": {},
   "outputs": [
    {
     "name": "stdout",
     "output_type": "stream",
     "text": [
      "knn_score:0.966667, dt_score:0.980000, lr_score:0.960000\n"
     ]
    }
   ],
   "source": [
    "dataset = datasets.load_iris()\n",
    "x = dataset.data\n",
    "y = dataset.target\n",
    "cv = 5\n",
    "model_selection(x, y, cv)"
   ]
  },
  {
   "cell_type": "code",
   "execution_count": 19,
   "id": "23313b8f",
   "metadata": {},
   "outputs": [
    {
     "name": "stdout",
     "output_type": "stream",
     "text": [
      ".. _digits_dataset:\n",
      "\n",
      "Optical recognition of handwritten digits dataset\n",
      "--------------------------------------------------\n",
      "\n",
      "**Data Set Characteristics:**\n",
      "\n",
      "    :Number of Instances: 1797\n",
      "    :Number of Attributes: 64\n",
      "    :Attribute Information: 8x8 image of integer pixels in the range 0..16.\n",
      "    :Missing Attribute Values: None\n",
      "    :Creator: E. Alpaydin (alpaydin '@' boun.edu.tr)\n",
      "    :Date: July; 1998\n",
      "\n",
      "This is a copy of the test set of the UCI ML hand-written digits datasets\n",
      "https://archive.ics.uci.edu/ml/datasets/Optical+Recognition+of+Handwritten+Digits\n",
      "\n",
      "The data set contains images of hand-written digits: 10 classes where\n",
      "each class refers to a digit.\n",
      "\n",
      "Preprocessing programs made available by NIST were used to extract\n",
      "normalized bitmaps of handwritten digits from a preprinted form. From a\n",
      "total of 43 people, 30 contributed to the training set and different 13\n",
      "to the test set. 32x32 bitmaps are divided into nonoverlapping blocks of\n",
      "4x4 and the number of on pixels are counted in each block. This generates\n",
      "an input matrix of 8x8 where each element is an integer in the range\n",
      "0..16. This reduces dimensionality and gives invariance to small\n",
      "distortions.\n",
      "\n",
      "For info on NIST preprocessing routines, see M. D. Garris, J. L. Blue, G.\n",
      "T. Candela, D. L. Dimmick, J. Geist, P. J. Grother, S. A. Janet, and C.\n",
      "L. Wilson, NIST Form-Based Handprint Recognition System, NISTIR 5469,\n",
      "1994.\n",
      "\n",
      ".. topic:: References\n",
      "\n",
      "  - C. Kaynak (1995) Methods of Combining Multiple Classifiers and Their\n",
      "    Applications to Handwritten Digit Recognition, MSc Thesis, Institute of\n",
      "    Graduate Studies in Science and Engineering, Bogazici University.\n",
      "  - E. Alpaydin, C. Kaynak (1998) Cascading Classifiers, Kybernetika.\n",
      "  - Ken Tang and Ponnuthurai N. Suganthan and Xi Yao and A. Kai Qin.\n",
      "    Linear dimensionalityreduction using relevance weighted LDA. School of\n",
      "    Electrical and Electronic Engineering Nanyang Technological University.\n",
      "    2005.\n",
      "  - Claudio Gentile. A New Approximate Maximal Margin Classification\n",
      "    Algorithm. NIPS. 2000.\n",
      "\n"
     ]
    }
   ],
   "source": [
    "print(datasets.load_digits().DESCR)"
   ]
  },
  {
   "cell_type": "code",
   "execution_count": 5,
   "id": "75e879b4",
   "metadata": {},
   "outputs": [
    {
     "name": "stdout",
     "output_type": "stream",
     "text": [
      "knn_score:0.966622, dt_score:0.948822, lr_score:0.631681\n"
     ]
    }
   ],
   "source": [
    "dataset = datasets.load_digits()\n",
    "x = dataset.data\n",
    "y = dataset.target\n",
    "cv = 5\n",
    "model_selection(x, y, cv)"
   ]
  },
  {
   "cell_type": "code",
   "execution_count": 13,
   "id": "405fab1e",
   "metadata": {},
   "outputs": [],
   "source": [
    "from sklearn.neural_network import MLPClassifier"
   ]
  },
  {
   "cell_type": "code",
   "execution_count": 7,
   "id": "f0417bb9",
   "metadata": {},
   "outputs": [
    {
     "data": {
      "text/plain": [
       "0.42405756731662014"
      ]
     },
     "execution_count": 7,
     "metadata": {},
     "output_type": "execute_result"
    }
   ],
   "source": [
    "nn = MLPClassifier(\n",
    "    hidden_layer_sizes = (1,), \n",
    "    activation = 'identity', \n",
    "    learning_rate_init = 0.01, \n",
    "    random_state = 233\n",
    ")\n",
    "np.mean(cross_val_score(nn, x, y, cv = 5))"
   ]
  },
  {
   "cell_type": "markdown",
   "id": "8b7e8627",
   "metadata": {},
   "source": [
    "## 神经网络的模型选择"
   ]
  },
  {
   "cell_type": "code",
   "execution_count": 8,
   "id": "ccbe9a7a",
   "metadata": {},
   "outputs": [
    {
     "data": {
      "text/plain": [
       "0.8809300526152894"
      ]
     },
     "execution_count": 8,
     "metadata": {},
     "output_type": "execute_result"
    }
   ],
   "source": [
    "nn = MLPClassifier(\n",
    "    hidden_layer_sizes = (5,), \n",
    "    activation = 'identity', \n",
    "    learning_rate_init = 0.01, \n",
    "    random_state = 233\n",
    ")\n",
    "np.mean(cross_val_score(nn, x, y, cv = 5))"
   ]
  },
  {
   "cell_type": "code",
   "execution_count": 9,
   "id": "26fa1f87",
   "metadata": {},
   "outputs": [
    {
     "data": {
      "text/plain": [
       "0.9176539770968741"
      ]
     },
     "execution_count": 9,
     "metadata": {},
     "output_type": "execute_result"
    }
   ],
   "source": [
    "nn = MLPClassifier(\n",
    "    hidden_layer_sizes = (100,), \n",
    "    activation = 'identity', \n",
    "    learning_rate_init = 0.01, \n",
    "    random_state = 233\n",
    ")\n",
    "np.mean(cross_val_score(nn, x, y, cv = 5))"
   ]
  },
  {
   "cell_type": "code",
   "execution_count": 20,
   "id": "3efc99a1",
   "metadata": {},
   "outputs": [
    {
     "data": {
      "text/plain": [
       "0.3060631383472609"
      ]
     },
     "execution_count": 20,
     "metadata": {},
     "output_type": "execute_result"
    }
   ],
   "source": [
    "nn = MLPClassifier(\n",
    "    hidden_layer_sizes = (5,), \n",
    "    activation = 'relu', \n",
    "    learning_rate_init = 0.01, \n",
    "    random_state = 233\n",
    ")\n",
    "np.mean(cross_val_score(nn, x, y, cv = 5))"
   ]
  },
  {
   "cell_type": "code",
   "execution_count": null,
   "id": "4c752503",
   "metadata": {},
   "outputs": [],
   "source": []
  },
  {
   "cell_type": "code",
   "execution_count": 11,
   "id": "d5a3f5c9",
   "metadata": {},
   "outputs": [
    {
     "data": {
      "text/plain": [
       "0.943237387805633"
      ]
     },
     "execution_count": 11,
     "metadata": {},
     "output_type": "execute_result"
    }
   ],
   "source": [
    "nn = MLPClassifier(\n",
    "    hidden_layer_sizes = (100,100), \n",
    "    activation = 'relu', \n",
    "    learning_rate_init = 0.01, \n",
    "    random_state = 233\n",
    ")\n",
    "np.mean(cross_val_score(nn, x, y, cv = 5))"
   ]
  },
  {
   "cell_type": "code",
   "execution_count": 14,
   "id": "1ebb2cfc",
   "metadata": {},
   "outputs": [
    {
     "data": {
      "text/plain": [
       "0.9443593314763232"
      ]
     },
     "execution_count": 14,
     "metadata": {},
     "output_type": "execute_result"
    }
   ],
   "source": [
    "nn = MLPClassifier(\n",
    "    hidden_layer_sizes = (100,50,100), \n",
    "    activation = 'relu', \n",
    "    learning_rate_init = 0.01, \n",
    "    random_state = 233,\n",
    "    solver='sgd'\n",
    ")\n",
    "np.mean(cross_val_score(nn, x, y, cv = 5))"
   ]
  },
  {
   "cell_type": "code",
   "execution_count": 18,
   "id": "32a5d168",
   "metadata": {},
   "outputs": [
    {
     "data": {
      "text/plain": [
       "0.8808820798514392"
      ]
     },
     "execution_count": 18,
     "metadata": {},
     "output_type": "execute_result"
    }
   ],
   "source": [
    "nn = MLPClassifier(\n",
    "    hidden_layer_sizes = (100,50,100,100,50,100,100,50,100), \n",
    "    activation = 'relu', \n",
    "    learning_rate_init = 0.01, \n",
    "    random_state = 233\n",
    ")\n",
    "np.mean(cross_val_score(nn, x, y, cv = 5))"
   ]
  }
 ],
 "metadata": {
  "kernelspec": {
   "display_name": "Python 3 (ipykernel)",
   "language": "python",
   "name": "python3"
  },
  "language_info": {
   "codemirror_mode": {
    "name": "ipython",
    "version": 3
   },
   "file_extension": ".py",
   "mimetype": "text/x-python",
   "name": "python",
   "nbconvert_exporter": "python",
   "pygments_lexer": "ipython3",
   "version": "3.8.10"
  }
 },
 "nbformat": 4,
 "nbformat_minor": 5
}
