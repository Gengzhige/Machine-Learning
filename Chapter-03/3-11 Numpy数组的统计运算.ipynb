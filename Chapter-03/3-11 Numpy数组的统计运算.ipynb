{
 "cells": [
  {
   "cell_type": "markdown",
   "id": "06ecb7dd",
   "metadata": {},
   "source": [
    "### 最大最小值"
   ]
  },
  {
   "cell_type": "code",
   "execution_count": 1,
   "id": "877a1198",
   "metadata": {},
   "outputs": [
    {
     "data": {
      "text/plain": [
       "array([      0,       1,       2, ..., 4999997, 4999998, 4999999])"
      ]
     },
     "execution_count": 1,
     "metadata": {},
     "output_type": "execute_result"
    }
   ],
   "source": [
    "import numpy as np\n",
    "X = np.arange(5000000)\n",
    "X"
   ]
  },
  {
   "cell_type": "code",
   "execution_count": 2,
   "id": "29251804",
   "metadata": {},
   "outputs": [
    {
     "data": {
      "text/plain": [
       "0"
      ]
     },
     "execution_count": 2,
     "metadata": {},
     "output_type": "execute_result"
    }
   ],
   "source": [
    "np.min(X)"
   ]
  },
  {
   "cell_type": "code",
   "execution_count": 3,
   "id": "27f0f77e",
   "metadata": {},
   "outputs": [
    {
     "data": {
      "text/plain": [
       "4999999"
      ]
     },
     "execution_count": 3,
     "metadata": {},
     "output_type": "execute_result"
    }
   ],
   "source": [
    "np.max(X)"
   ]
  },
  {
   "cell_type": "code",
   "execution_count": 4,
   "id": "6b6ae333",
   "metadata": {},
   "outputs": [
    {
     "name": "stdout",
     "output_type": "stream",
     "text": [
      "CPU times: user 299 ms, sys: 0 ns, total: 299 ms\n",
      "Wall time: 299 ms\n"
     ]
    },
    {
     "data": {
      "text/plain": [
       "0"
      ]
     },
     "execution_count": 4,
     "metadata": {},
     "output_type": "execute_result"
    }
   ],
   "source": [
    "%time min(X)"
   ]
  },
  {
   "cell_type": "code",
   "execution_count": 5,
   "id": "ca9b68b3",
   "metadata": {},
   "outputs": [
    {
     "name": "stdout",
     "output_type": "stream",
     "text": [
      "CPU times: user 5.72 ms, sys: 0 ns, total: 5.72 ms\n",
      "Wall time: 5.23 ms\n"
     ]
    },
    {
     "data": {
      "text/plain": [
       "0"
      ]
     },
     "execution_count": 5,
     "metadata": {},
     "output_type": "execute_result"
    }
   ],
   "source": [
    "%time np.min(X)"
   ]
  },
  {
   "cell_type": "code",
   "execution_count": 6,
   "id": "bb559972",
   "metadata": {},
   "outputs": [
    {
     "data": {
      "text/plain": [
       "array([[      0,       1,       2, ...,  999997,  999998,  999999],\n",
       "       [1000000, 1000001, 1000002, ..., 1999997, 1999998, 1999999],\n",
       "       [2000000, 2000001, 2000002, ..., 2999997, 2999998, 2999999],\n",
       "       [3000000, 3000001, 3000002, ..., 3999997, 3999998, 3999999],\n",
       "       [4000000, 4000001, 4000002, ..., 4999997, 4999998, 4999999]])"
      ]
     },
     "execution_count": 6,
     "metadata": {},
     "output_type": "execute_result"
    }
   ],
   "source": [
    "Y = X.reshape(5, -1)\n",
    "Y"
   ]
  },
  {
   "cell_type": "code",
   "execution_count": 7,
   "id": "a9378c18",
   "metadata": {},
   "outputs": [
    {
     "data": {
      "text/plain": [
       "array([     0,      1,      2, ..., 999997, 999998, 999999])"
      ]
     },
     "execution_count": 7,
     "metadata": {},
     "output_type": "execute_result"
    }
   ],
   "source": [
    "np.min(Y, axis = 0)"
   ]
  },
  {
   "cell_type": "code",
   "execution_count": 8,
   "id": "26aff24a",
   "metadata": {},
   "outputs": [
    {
     "data": {
      "text/plain": [
       "array([      0, 1000000, 2000000, 3000000, 4000000])"
      ]
     },
     "execution_count": 8,
     "metadata": {},
     "output_type": "execute_result"
    }
   ],
   "source": [
    "np.min(Y, axis = 1)"
   ]
  },
  {
   "cell_type": "markdown",
   "id": "798349c1",
   "metadata": {},
   "source": [
    "### 常见统计量"
   ]
  },
  {
   "cell_type": "code",
   "execution_count": 9,
   "id": "34bc939c",
   "metadata": {},
   "outputs": [
    {
     "data": {
      "text/plain": [
       "array([[ 1.,  2.,  3.,  4.,  5.],\n",
       "       [ 6.,  7.,  8.,  9., 10.],\n",
       "       [11., 12., 13., 14., 15.],\n",
       "       [16., 17., 18., 19., 20.]])"
      ]
     },
     "execution_count": 9,
     "metadata": {},
     "output_type": "execute_result"
    }
   ],
   "source": [
    "X = np.linspace(1, 20, 20).reshape(4, 5)\n",
    "X"
   ]
  },
  {
   "cell_type": "code",
   "execution_count": 10,
   "id": "b628f07c",
   "metadata": {},
   "outputs": [
    {
     "data": {
      "text/plain": [
       "210.0"
      ]
     },
     "execution_count": 10,
     "metadata": {},
     "output_type": "execute_result"
    }
   ],
   "source": [
    "np.sum(X)"
   ]
  },
  {
   "cell_type": "code",
   "execution_count": 11,
   "id": "b2b53884",
   "metadata": {},
   "outputs": [
    {
     "data": {
      "text/plain": [
       "array([34., 38., 42., 46., 50.])"
      ]
     },
     "execution_count": 11,
     "metadata": {},
     "output_type": "execute_result"
    }
   ],
   "source": [
    "np.sum(X, axis = 0)"
   ]
  },
  {
   "cell_type": "code",
   "execution_count": 12,
   "id": "00297376",
   "metadata": {},
   "outputs": [
    {
     "data": {
      "text/plain": [
       "array([15., 40., 65., 90.])"
      ]
     },
     "execution_count": 12,
     "metadata": {},
     "output_type": "execute_result"
    }
   ],
   "source": [
    "np.sum(X, axis = 1)"
   ]
  },
  {
   "cell_type": "code",
   "execution_count": 13,
   "id": "4fd170e0",
   "metadata": {},
   "outputs": [
    {
     "data": {
      "text/plain": [
       "10.5"
      ]
     },
     "execution_count": 13,
     "metadata": {},
     "output_type": "execute_result"
    }
   ],
   "source": [
    "np.mean(X)"
   ]
  },
  {
   "cell_type": "code",
   "execution_count": 14,
   "id": "a668d2d0",
   "metadata": {},
   "outputs": [
    {
     "data": {
      "text/plain": [
       "10.5"
      ]
     },
     "execution_count": 14,
     "metadata": {},
     "output_type": "execute_result"
    }
   ],
   "source": [
    "np.median(X)"
   ]
  },
  {
   "cell_type": "code",
   "execution_count": 15,
   "id": "e0d81db7",
   "metadata": {},
   "outputs": [
    {
     "data": {
      "text/plain": [
       "5.766281297335398"
      ]
     },
     "execution_count": 15,
     "metadata": {},
     "output_type": "execute_result"
    }
   ],
   "source": [
    "np.std(X)"
   ]
  },
  {
   "cell_type": "code",
   "execution_count": 16,
   "id": "6a43b815",
   "metadata": {},
   "outputs": [
    {
     "data": {
      "text/plain": [
       "33.25"
      ]
     },
     "execution_count": 16,
     "metadata": {},
     "output_type": "execute_result"
    }
   ],
   "source": [
    "np.var(X)"
   ]
  },
  {
   "cell_type": "code",
   "execution_count": 17,
   "id": "af6087f8",
   "metadata": {},
   "outputs": [
    {
     "data": {
      "text/plain": [
       "(0.012117422295426642, 9.985591536804074)"
      ]
     },
     "execution_count": 17,
     "metadata": {},
     "output_type": "execute_result"
    }
   ],
   "source": [
    "Z = np.random.normal(0, 10, 100000)\n",
    "np.mean(Z), np.std(Z)"
   ]
  },
  {
   "cell_type": "markdown",
   "id": "5e3f3a31",
   "metadata": {},
   "source": [
    "### 补充内容"
   ]
  },
  {
   "cell_type": "code",
   "execution_count": 18,
   "id": "8a7fef90",
   "metadata": {},
   "outputs": [
    {
     "data": {
      "text/plain": [
       "19.0"
      ]
     },
     "execution_count": 18,
     "metadata": {},
     "output_type": "execute_result"
    }
   ],
   "source": [
    "np.ptp(X)"
   ]
  },
  {
   "cell_type": "code",
   "execution_count": 19,
   "id": "b665cce1",
   "metadata": {},
   "outputs": [],
   "source": [
    "q = np.linspace(0, 100, 5)"
   ]
  },
  {
   "cell_type": "code",
   "execution_count": 20,
   "id": "1ef484fa",
   "metadata": {},
   "outputs": [
    {
     "data": {
      "text/plain": [
       "(array([  0.,  25.,  50.,  75., 100.]),\n",
       " array([ 1.  ,  5.75, 10.5 , 15.25, 20.  ]))"
      ]
     },
     "execution_count": 20,
     "metadata": {},
     "output_type": "execute_result"
    }
   ],
   "source": [
    "q, np.percentile(X, q)"
   ]
  },
  {
   "cell_type": "code",
   "execution_count": 21,
   "id": "272aba67",
   "metadata": {},
   "outputs": [
    {
     "data": {
      "text/plain": [
       "array([[ 1.,  3.,  6., 10., 15.],\n",
       "       [ 6., 13., 21., 30., 40.],\n",
       "       [11., 23., 36., 50., 65.],\n",
       "       [16., 33., 51., 70., 90.]])"
      ]
     },
     "execution_count": 21,
     "metadata": {},
     "output_type": "execute_result"
    }
   ],
   "source": [
    "np.cumsum(X, axis = 1)"
   ]
  },
  {
   "cell_type": "code",
   "execution_count": 22,
   "id": "9f984a0c",
   "metadata": {},
   "outputs": [
    {
     "data": {
      "text/plain": [
       "array([[1., 1., 1., 1.],\n",
       "       [1., 1., 1., 1.],\n",
       "       [1., 1., 1., 1.],\n",
       "       [1., 1., 1., 1.]])"
      ]
     },
     "execution_count": 22,
     "metadata": {},
     "output_type": "execute_result"
    }
   ],
   "source": [
    "np.diff(X, axis = 1)"
   ]
  },
  {
   "cell_type": "code",
   "execution_count": 23,
   "id": "5fb5dd29",
   "metadata": {},
   "outputs": [
    {
     "data": {
      "text/plain": [
       "array([1.20000e+02, 3.02400e+04, 3.60360e+05, 1.86048e+06])"
      ]
     },
     "execution_count": 23,
     "metadata": {},
     "output_type": "execute_result"
    }
   ],
   "source": [
    "np.prod(X, axis = 1)"
   ]
  },
  {
   "cell_type": "code",
   "execution_count": null,
   "id": "c0ca092a",
   "metadata": {},
   "outputs": [],
   "source": []
  }
 ],
 "metadata": {
  "kernelspec": {
   "display_name": "Python 3 (ipykernel)",
   "language": "python",
   "name": "python3"
  },
  "language_info": {
   "codemirror_mode": {
    "name": "ipython",
    "version": 3
   },
   "file_extension": ".py",
   "mimetype": "text/x-python",
   "name": "python",
   "nbconvert_exporter": "python",
   "pygments_lexer": "ipython3",
   "version": "3.8.10"
  }
 },
 "nbformat": 4,
 "nbformat_minor": 5
}
