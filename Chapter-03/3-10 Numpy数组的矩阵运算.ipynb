{
 "cells": [
  {
   "cell_type": "markdown",
   "id": "e75acf3d",
   "metadata": {},
   "source": [
    "### Numpy的矩阵运算有何不同"
   ]
  },
  {
   "cell_type": "code",
   "execution_count": 56,
   "id": "c0977ba4",
   "metadata": {},
   "outputs": [],
   "source": [
    "n = 5000000\n",
    "x = [i for i in range(n)]"
   ]
  },
  {
   "cell_type": "code",
   "execution_count": 2,
   "id": "c9c716f3",
   "metadata": {},
   "outputs": [
    {
     "data": {
      "text/plain": [
       "[0, 1, 2, 3, 4]"
      ]
     },
     "execution_count": 2,
     "metadata": {},
     "output_type": "execute_result"
    }
   ],
   "source": [
    "x"
   ]
  },
  {
   "cell_type": "code",
   "execution_count": 3,
   "id": "bd587406",
   "metadata": {},
   "outputs": [
    {
     "data": {
      "text/plain": [
       "[0, 1, 2, 3, 4, 0, 1, 2, 3, 4]"
      ]
     },
     "execution_count": 3,
     "metadata": {},
     "output_type": "execute_result"
    }
   ],
   "source": [
    "x * 2"
   ]
  },
  {
   "cell_type": "code",
   "execution_count": 4,
   "id": "a9019f93",
   "metadata": {},
   "outputs": [
    {
     "data": {
      "text/plain": [
       "[0, 1, 2, 3, 4, 0, 1, 2, 3, 4]"
      ]
     },
     "execution_count": 4,
     "metadata": {},
     "output_type": "execute_result"
    }
   ],
   "source": [
    "x + x"
   ]
  },
  {
   "cell_type": "code",
   "execution_count": 57,
   "id": "c5c401ca",
   "metadata": {},
   "outputs": [
    {
     "name": "stdout",
     "output_type": "stream",
     "text": [
      "CPU times: user 161 ms, sys: 48.2 ms, total: 209 ms\n",
      "Wall time: 207 ms\n"
     ]
    }
   ],
   "source": [
    "%%time\n",
    "y = [i * 2 for i in x]"
   ]
  },
  {
   "cell_type": "code",
   "execution_count": 6,
   "id": "644861c0",
   "metadata": {},
   "outputs": [
    {
     "data": {
      "text/plain": [
       "[0, 2, 4, 6, 8]"
      ]
     },
     "execution_count": 6,
     "metadata": {},
     "output_type": "execute_result"
    }
   ],
   "source": [
    "y"
   ]
  },
  {
   "cell_type": "code",
   "execution_count": 58,
   "id": "02a935d3",
   "metadata": {},
   "outputs": [
    {
     "data": {
      "text/plain": [
       "array([      0,       1,       2, ..., 4999997, 4999998, 4999999])"
      ]
     },
     "execution_count": 58,
     "metadata": {},
     "output_type": "execute_result"
    }
   ],
   "source": [
    "import numpy as np\n",
    "X = np.arange(n)\n",
    "X"
   ]
  },
  {
   "cell_type": "code",
   "execution_count": 59,
   "id": "e260434d",
   "metadata": {},
   "outputs": [
    {
     "name": "stdout",
     "output_type": "stream",
     "text": [
      "CPU times: user 7.95 ms, sys: 0 ns, total: 7.95 ms\n",
      "Wall time: 7.46 ms\n"
     ]
    }
   ],
   "source": [
    "%%time\n",
    "Y = X * 2"
   ]
  },
  {
   "cell_type": "code",
   "execution_count": 60,
   "id": "826cd20a",
   "metadata": {},
   "outputs": [
    {
     "data": {
      "text/plain": [
       "array([ 0,  2,  4,  6,  8, 10, 12, 14, 16, 18])"
      ]
     },
     "execution_count": 60,
     "metadata": {},
     "output_type": "execute_result"
    }
   ],
   "source": [
    "Y[:10]"
   ]
  },
  {
   "cell_type": "markdown",
   "id": "cd31c8df",
   "metadata": {},
   "source": [
    "### 一元运算"
   ]
  },
  {
   "cell_type": "code",
   "execution_count": 10,
   "id": "cab7e471",
   "metadata": {},
   "outputs": [
    {
     "data": {
      "text/plain": [
       "array([[ 1. ,  1.5,  2. ,  2.5,  3. ],\n",
       "       [ 3.5,  4. ,  4.5,  5. ,  5.5],\n",
       "       [ 6. ,  6.5,  7. ,  7.5,  8. ],\n",
       "       [ 8.5,  9. ,  9.5, 10. , 10.5]])"
      ]
     },
     "execution_count": 10,
     "metadata": {},
     "output_type": "execute_result"
    }
   ],
   "source": [
    "X = np.arange(1, 11, 0.5).reshape(4, 5)\n",
    "X"
   ]
  },
  {
   "cell_type": "code",
   "execution_count": 11,
   "id": "14cd3b46",
   "metadata": {},
   "outputs": [
    {
     "data": {
      "text/plain": [
       "array([[ 1. ,  1.5,  2. ,  2.5,  3. ],\n",
       "       [ 3.5,  4. ,  4.5,  5. ,  5.5],\n",
       "       [ 6. ,  6.5,  7. ,  7.5,  8. ],\n",
       "       [ 8.5,  9. ,  9.5, 10. , 10.5]])"
      ]
     },
     "execution_count": 11,
     "metadata": {},
     "output_type": "execute_result"
    }
   ],
   "source": [
    "np.abs(X)"
   ]
  },
  {
   "cell_type": "code",
   "execution_count": 12,
   "id": "799e4b9f",
   "metadata": {},
   "outputs": [
    {
     "data": {
      "text/plain": [
       "array([[1.        , 1.22474487, 1.41421356, 1.58113883, 1.73205081],\n",
       "       [1.87082869, 2.        , 2.12132034, 2.23606798, 2.34520788],\n",
       "       [2.44948974, 2.54950976, 2.64575131, 2.73861279, 2.82842712],\n",
       "       [2.91547595, 3.        , 3.082207  , 3.16227766, 3.24037035]])"
      ]
     },
     "execution_count": 12,
     "metadata": {},
     "output_type": "execute_result"
    }
   ],
   "source": [
    "np.sqrt(X)"
   ]
  },
  {
   "cell_type": "code",
   "execution_count": 13,
   "id": "665d1607",
   "metadata": {},
   "outputs": [
    {
     "data": {
      "text/plain": [
       "array([[  1.  ,   2.25,   4.  ,   6.25,   9.  ],\n",
       "       [ 12.25,  16.  ,  20.25,  25.  ,  30.25],\n",
       "       [ 36.  ,  42.25,  49.  ,  56.25,  64.  ],\n",
       "       [ 72.25,  81.  ,  90.25, 100.  , 110.25]])"
      ]
     },
     "execution_count": 13,
     "metadata": {},
     "output_type": "execute_result"
    }
   ],
   "source": [
    "np.square(X)"
   ]
  },
  {
   "cell_type": "code",
   "execution_count": 14,
   "id": "7bb5558a",
   "metadata": {},
   "outputs": [
    {
     "data": {
      "text/plain": [
       "array([[2.71828183e+00, 4.48168907e+00, 7.38905610e+00, 1.21824940e+01,\n",
       "        2.00855369e+01],\n",
       "       [3.31154520e+01, 5.45981500e+01, 9.00171313e+01, 1.48413159e+02,\n",
       "        2.44691932e+02],\n",
       "       [4.03428793e+02, 6.65141633e+02, 1.09663316e+03, 1.80804241e+03,\n",
       "        2.98095799e+03],\n",
       "       [4.91476884e+03, 8.10308393e+03, 1.33597268e+04, 2.20264658e+04,\n",
       "        3.63155027e+04]])"
      ]
     },
     "execution_count": 14,
     "metadata": {},
     "output_type": "execute_result"
    }
   ],
   "source": [
    "np.exp(X)"
   ]
  },
  {
   "cell_type": "code",
   "execution_count": 15,
   "id": "f432ccf5",
   "metadata": {},
   "outputs": [
    {
     "data": {
      "text/plain": [
       "array([[0.        , 0.40546511, 0.69314718, 0.91629073, 1.09861229],\n",
       "       [1.25276297, 1.38629436, 1.5040774 , 1.60943791, 1.70474809],\n",
       "       [1.79175947, 1.87180218, 1.94591015, 2.01490302, 2.07944154],\n",
       "       [2.14006616, 2.19722458, 2.2512918 , 2.30258509, 2.35137526]])"
      ]
     },
     "execution_count": 15,
     "metadata": {},
     "output_type": "execute_result"
    }
   ],
   "source": [
    "np.log(X)"
   ]
  },
  {
   "cell_type": "code",
   "execution_count": 16,
   "id": "dff9dbd5",
   "metadata": {},
   "outputs": [
    {
     "data": {
      "text/plain": [
       "array([[0.        , 0.5849625 , 1.        , 1.32192809, 1.5849625 ],\n",
       "       [1.80735492, 2.        , 2.169925  , 2.32192809, 2.45943162],\n",
       "       [2.5849625 , 2.70043972, 2.80735492, 2.9068906 , 3.        ],\n",
       "       [3.08746284, 3.169925  , 3.24792751, 3.32192809, 3.39231742]])"
      ]
     },
     "execution_count": 16,
     "metadata": {},
     "output_type": "execute_result"
    }
   ],
   "source": [
    "np.log2(X)"
   ]
  },
  {
   "cell_type": "code",
   "execution_count": 17,
   "id": "bafe0651",
   "metadata": {},
   "outputs": [
    {
     "data": {
      "text/plain": [
       "array([[0.        , 0.17609126, 0.30103   , 0.39794001, 0.47712125],\n",
       "       [0.54406804, 0.60205999, 0.65321251, 0.69897   , 0.74036269],\n",
       "       [0.77815125, 0.81291336, 0.84509804, 0.87506126, 0.90308999],\n",
       "       [0.92941893, 0.95424251, 0.97772361, 1.        , 1.0211893 ]])"
      ]
     },
     "execution_count": 17,
     "metadata": {},
     "output_type": "execute_result"
    }
   ],
   "source": [
    "np.log10(X)"
   ]
  },
  {
   "cell_type": "code",
   "execution_count": 18,
   "id": "3e35deea",
   "metadata": {},
   "outputs": [
    {
     "data": {
      "text/plain": [
       "array([[ 1. ,  1.5,  2. ,  2.5,  3. ],\n",
       "       [ 3.5,  4. ,  4.5,  5. ,  5.5],\n",
       "       [ 6. ,  6.5,  7. ,  7.5,  8. ],\n",
       "       [ 8.5,  9. ,  9.5, 10. , 10.5]])"
      ]
     },
     "execution_count": 18,
     "metadata": {},
     "output_type": "execute_result"
    }
   ],
   "source": [
    "X"
   ]
  },
  {
   "cell_type": "code",
   "execution_count": 19,
   "id": "e2af3375",
   "metadata": {},
   "outputs": [
    {
     "data": {
      "text/plain": [
       "array([[ 1.,  2.,  2.,  3.,  3.],\n",
       "       [ 4.,  4.,  5.,  5.,  6.],\n",
       "       [ 6.,  7.,  7.,  8.,  8.],\n",
       "       [ 9.,  9., 10., 10., 11.]])"
      ]
     },
     "execution_count": 19,
     "metadata": {},
     "output_type": "execute_result"
    }
   ],
   "source": [
    "np.ceil(X)"
   ]
  },
  {
   "cell_type": "code",
   "execution_count": 20,
   "id": "6fe8207e",
   "metadata": {},
   "outputs": [
    {
     "data": {
      "text/plain": [
       "array([[ 1.,  1.,  2.,  2.,  3.],\n",
       "       [ 3.,  4.,  4.,  5.,  5.],\n",
       "       [ 6.,  6.,  7.,  7.,  8.],\n",
       "       [ 8.,  9.,  9., 10., 10.]])"
      ]
     },
     "execution_count": 20,
     "metadata": {},
     "output_type": "execute_result"
    }
   ],
   "source": [
    "np.floor(X)"
   ]
  },
  {
   "cell_type": "code",
   "execution_count": 21,
   "id": "510380ca",
   "metadata": {},
   "outputs": [
    {
     "data": {
      "text/plain": [
       "array([[ 1.,  2.,  2.,  2.,  3.],\n",
       "       [ 4.,  4.,  4.,  5.,  6.],\n",
       "       [ 6.,  6.,  7.,  8.,  8.],\n",
       "       [ 8.,  9., 10., 10., 10.]])"
      ]
     },
     "execution_count": 21,
     "metadata": {},
     "output_type": "execute_result"
    }
   ],
   "source": [
    "np.round(X)"
   ]
  },
  {
   "cell_type": "code",
   "execution_count": 22,
   "id": "9a510bef",
   "metadata": {},
   "outputs": [
    {
     "data": {
      "text/plain": [
       "array([[ 0.84147098,  0.99749499,  0.90929743,  0.59847214,  0.14112001],\n",
       "       [-0.35078323, -0.7568025 , -0.97753012, -0.95892427, -0.70554033],\n",
       "       [-0.2794155 ,  0.21511999,  0.6569866 ,  0.93799998,  0.98935825],\n",
       "       [ 0.79848711,  0.41211849, -0.07515112, -0.54402111, -0.87969576]])"
      ]
     },
     "execution_count": 22,
     "metadata": {},
     "output_type": "execute_result"
    }
   ],
   "source": [
    "np.sin(X)"
   ]
  },
  {
   "cell_type": "code",
   "execution_count": 23,
   "id": "ab7f02fd",
   "metadata": {},
   "outputs": [
    {
     "data": {
      "text/plain": [
       "array([[ 0.54030231,  0.0707372 , -0.41614684, -0.80114362, -0.9899925 ],\n",
       "       [-0.93645669, -0.65364362, -0.2107958 ,  0.28366219,  0.70866977],\n",
       "       [ 0.96017029,  0.97658763,  0.75390225,  0.34663532, -0.14550003],\n",
       "       [-0.6020119 , -0.91113026, -0.99717216, -0.83907153, -0.47553693]])"
      ]
     },
     "execution_count": 23,
     "metadata": {},
     "output_type": "execute_result"
    }
   ],
   "source": [
    "np.cos(X)"
   ]
  },
  {
   "cell_type": "code",
   "execution_count": 24,
   "id": "4b3d1dd4",
   "metadata": {},
   "outputs": [
    {
     "data": {
      "text/plain": [
       "array([[ 1.55740772, 14.10141995, -2.18503986, -0.7470223 , -0.14254654],\n",
       "       [ 0.37458564,  1.15782128,  4.63733205, -3.38051501, -0.99558405],\n",
       "       [-0.29100619,  0.2202772 ,  0.87144798,  2.70601387, -6.79971146],\n",
       "       [-1.32636433, -0.45231566,  0.07536424,  0.64836083,  1.84989999]])"
      ]
     },
     "execution_count": 24,
     "metadata": {},
     "output_type": "execute_result"
    }
   ],
   "source": [
    "np.tan(X)"
   ]
  },
  {
   "cell_type": "markdown",
   "id": "dd35a70b",
   "metadata": {},
   "source": [
    "### 二元运算"
   ]
  },
  {
   "cell_type": "code",
   "execution_count": 25,
   "id": "94ed25c9",
   "metadata": {},
   "outputs": [
    {
     "data": {
      "text/plain": [
       "array([[ 2. ,  2.5,  3. ,  3.5,  4. ],\n",
       "       [ 4.5,  5. ,  5.5,  6. ,  6.5],\n",
       "       [ 7. ,  7.5,  8. ,  8.5,  9. ],\n",
       "       [ 9.5, 10. , 10.5, 11. , 11.5]])"
      ]
     },
     "execution_count": 25,
     "metadata": {},
     "output_type": "execute_result"
    }
   ],
   "source": [
    "X + 1"
   ]
  },
  {
   "cell_type": "code",
   "execution_count": 26,
   "id": "8305fc21",
   "metadata": {},
   "outputs": [
    {
     "data": {
      "text/plain": [
       "array([[ 2. ,  2.5,  3. ,  3.5,  4. ],\n",
       "       [ 4.5,  5. ,  5.5,  6. ,  6.5],\n",
       "       [ 7. ,  7.5,  8. ,  8.5,  9. ],\n",
       "       [ 9.5, 10. , 10.5, 11. , 11.5]])"
      ]
     },
     "execution_count": 26,
     "metadata": {},
     "output_type": "execute_result"
    }
   ],
   "source": [
    "np.add(X, 1)"
   ]
  },
  {
   "cell_type": "code",
   "execution_count": 27,
   "id": "f367d4af",
   "metadata": {},
   "outputs": [
    {
     "data": {
      "text/plain": [
       "array([[0. , 0.5, 1. , 1.5, 2. ],\n",
       "       [2.5, 3. , 3.5, 4. , 4.5],\n",
       "       [5. , 5.5, 6. , 6.5, 7. ],\n",
       "       [7.5, 8. , 8.5, 9. , 9.5]])"
      ]
     },
     "execution_count": 27,
     "metadata": {},
     "output_type": "execute_result"
    }
   ],
   "source": [
    "X - 1"
   ]
  },
  {
   "cell_type": "code",
   "execution_count": 28,
   "id": "b35f26d8",
   "metadata": {},
   "outputs": [
    {
     "data": {
      "text/plain": [
       "array([[ 2.,  3.,  4.,  5.,  6.],\n",
       "       [ 7.,  8.,  9., 10., 11.],\n",
       "       [12., 13., 14., 15., 16.],\n",
       "       [17., 18., 19., 20., 21.]])"
      ]
     },
     "execution_count": 28,
     "metadata": {},
     "output_type": "execute_result"
    }
   ],
   "source": [
    "X * 2"
   ]
  },
  {
   "cell_type": "code",
   "execution_count": 29,
   "id": "8930635a",
   "metadata": {},
   "outputs": [
    {
     "data": {
      "text/plain": [
       "array([[0.5 , 0.75, 1.  , 1.25, 1.5 ],\n",
       "       [1.75, 2.  , 2.25, 2.5 , 2.75],\n",
       "       [3.  , 3.25, 3.5 , 3.75, 4.  ],\n",
       "       [4.25, 4.5 , 4.75, 5.  , 5.25]])"
      ]
     },
     "execution_count": 29,
     "metadata": {},
     "output_type": "execute_result"
    }
   ],
   "source": [
    "X / 2"
   ]
  },
  {
   "cell_type": "code",
   "execution_count": 30,
   "id": "b608cff0",
   "metadata": {},
   "outputs": [
    {
     "data": {
      "text/plain": [
       "array([[2.        , 1.33333333, 1.        , 0.8       , 0.66666667],\n",
       "       [0.57142857, 0.5       , 0.44444444, 0.4       , 0.36363636],\n",
       "       [0.33333333, 0.30769231, 0.28571429, 0.26666667, 0.25      ],\n",
       "       [0.23529412, 0.22222222, 0.21052632, 0.2       , 0.19047619]])"
      ]
     },
     "execution_count": 30,
     "metadata": {},
     "output_type": "execute_result"
    }
   ],
   "source": [
    "2 / X"
   ]
  },
  {
   "cell_type": "code",
   "execution_count": 31,
   "id": "b6f0006a",
   "metadata": {},
   "outputs": [
    {
     "data": {
      "text/plain": [
       "array([[0., 0., 1., 1., 1.],\n",
       "       [1., 2., 2., 2., 2.],\n",
       "       [3., 3., 3., 3., 4.],\n",
       "       [4., 4., 4., 5., 5.]])"
      ]
     },
     "execution_count": 31,
     "metadata": {},
     "output_type": "execute_result"
    }
   ],
   "source": [
    "X // 2"
   ]
  },
  {
   "cell_type": "code",
   "execution_count": 32,
   "id": "b5477002",
   "metadata": {},
   "outputs": [
    {
     "data": {
      "text/plain": [
       "array([[1. , 1.5, 0. , 0.5, 1. ],\n",
       "       [1.5, 0. , 0.5, 1. , 1.5],\n",
       "       [0. , 0.5, 1. , 1.5, 0. ],\n",
       "       [0.5, 1. , 1.5, 0. , 0.5]])"
      ]
     },
     "execution_count": 32,
     "metadata": {},
     "output_type": "execute_result"
    }
   ],
   "source": [
    "X % 2"
   ]
  },
  {
   "cell_type": "code",
   "execution_count": 33,
   "id": "90309026",
   "metadata": {},
   "outputs": [
    {
     "data": {
      "text/plain": [
       "array([[1.000000e+00, 3.375000e+00, 8.000000e+00, 1.562500e+01,\n",
       "        2.700000e+01],\n",
       "       [4.287500e+01, 6.400000e+01, 9.112500e+01, 1.250000e+02,\n",
       "        1.663750e+02],\n",
       "       [2.160000e+02, 2.746250e+02, 3.430000e+02, 4.218750e+02,\n",
       "        5.120000e+02],\n",
       "       [6.141250e+02, 7.290000e+02, 8.573750e+02, 1.000000e+03,\n",
       "        1.157625e+03]])"
      ]
     },
     "execution_count": 33,
     "metadata": {},
     "output_type": "execute_result"
    }
   ],
   "source": [
    "X ** 3"
   ]
  },
  {
   "cell_type": "markdown",
   "id": "0e4a60ec",
   "metadata": {},
   "source": [
    "### 矩阵运算"
   ]
  },
  {
   "cell_type": "code",
   "execution_count": 34,
   "id": "8f6aada3",
   "metadata": {},
   "outputs": [],
   "source": [
    "X = np.linspace(10, 40, 4).reshape(2, 2)\n",
    "Y = np.linspace(1, 4, 4).reshape(2, 2)"
   ]
  },
  {
   "cell_type": "code",
   "execution_count": 35,
   "id": "b6877901",
   "metadata": {},
   "outputs": [
    {
     "data": {
      "text/plain": [
       "(array([[10., 20.],\n",
       "        [30., 40.]]),\n",
       " array([[1., 2.],\n",
       "        [3., 4.]]))"
      ]
     },
     "execution_count": 35,
     "metadata": {},
     "output_type": "execute_result"
    }
   ],
   "source": [
    "X, Y"
   ]
  },
  {
   "cell_type": "code",
   "execution_count": 36,
   "id": "d9ed561d",
   "metadata": {},
   "outputs": [
    {
     "data": {
      "text/plain": [
       "array([[11., 22.],\n",
       "       [33., 44.]])"
      ]
     },
     "execution_count": 36,
     "metadata": {},
     "output_type": "execute_result"
    }
   ],
   "source": [
    "X + Y"
   ]
  },
  {
   "cell_type": "code",
   "execution_count": 37,
   "id": "b5b5f317",
   "metadata": {},
   "outputs": [
    {
     "data": {
      "text/plain": [
       "array([[ 9., 18.],\n",
       "       [27., 36.]])"
      ]
     },
     "execution_count": 37,
     "metadata": {},
     "output_type": "execute_result"
    }
   ],
   "source": [
    "X - Y"
   ]
  },
  {
   "cell_type": "code",
   "execution_count": 38,
   "id": "c7e9e24f",
   "metadata": {},
   "outputs": [
    {
     "data": {
      "text/plain": [
       "array([[ 10.,  40.],\n",
       "       [ 90., 160.]])"
      ]
     },
     "execution_count": 38,
     "metadata": {},
     "output_type": "execute_result"
    }
   ],
   "source": [
    "X * Y"
   ]
  },
  {
   "cell_type": "code",
   "execution_count": 39,
   "id": "7e57f70f",
   "metadata": {},
   "outputs": [
    {
     "data": {
      "text/plain": [
       "array([[ 70., 100.],\n",
       "       [150., 220.]])"
      ]
     },
     "execution_count": 39,
     "metadata": {},
     "output_type": "execute_result"
    }
   ],
   "source": [
    "X.dot(Y)"
   ]
  },
  {
   "cell_type": "code",
   "execution_count": 40,
   "id": "3175d7c0",
   "metadata": {},
   "outputs": [
    {
     "data": {
      "text/plain": [
       "array([[10., 10.],\n",
       "       [10., 10.]])"
      ]
     },
     "execution_count": 40,
     "metadata": {},
     "output_type": "execute_result"
    }
   ],
   "source": [
    "X / Y"
   ]
  },
  {
   "cell_type": "code",
   "execution_count": 41,
   "id": "4b536955",
   "metadata": {},
   "outputs": [
    {
     "data": {
      "text/plain": [
       "array([[10., 30.],\n",
       "       [20., 40.]])"
      ]
     },
     "execution_count": 41,
     "metadata": {},
     "output_type": "execute_result"
    }
   ],
   "source": [
    "X.T"
   ]
  },
  {
   "cell_type": "code",
   "execution_count": 42,
   "id": "9a59d9dd",
   "metadata": {},
   "outputs": [
    {
     "data": {
      "text/plain": [
       "array([[10., 30.],\n",
       "       [20., 40.]])"
      ]
     },
     "execution_count": 42,
     "metadata": {},
     "output_type": "execute_result"
    }
   ],
   "source": [
    "np.transpose(X)"
   ]
  },
  {
   "cell_type": "code",
   "execution_count": 43,
   "id": "955a020f",
   "metadata": {},
   "outputs": [
    {
     "ename": "ValueError",
     "evalue": "operands could not be broadcast together with shapes (2,2) (4,) ",
     "output_type": "error",
     "traceback": [
      "\u001b[0;31m---------------------------------------------------------------------------\u001b[0m",
      "\u001b[0;31mValueError\u001b[0m                                Traceback (most recent call last)",
      "Input \u001b[0;32mIn [43]\u001b[0m, in \u001b[0;36m<cell line: 2>\u001b[0;34m()\u001b[0m\n\u001b[1;32m      1\u001b[0m Z \u001b[38;5;241m=\u001b[39m np\u001b[38;5;241m.\u001b[39mlinspace(\u001b[38;5;241m1\u001b[39m, \u001b[38;5;241m4\u001b[39m, \u001b[38;5;241m4\u001b[39m)\n\u001b[0;32m----> 2\u001b[0m \u001b[43mX\u001b[49m\u001b[43m \u001b[49m\u001b[38;5;241;43m+\u001b[39;49m\u001b[43m \u001b[49m\u001b[43mZ\u001b[49m\n",
      "\u001b[0;31mValueError\u001b[0m: operands could not be broadcast together with shapes (2,2) (4,) "
     ]
    }
   ],
   "source": [
    "Z = np.linspace(1, 4, 4)\n",
    "X + Z"
   ]
  },
  {
   "cell_type": "code",
   "execution_count": 44,
   "id": "767fa6b0",
   "metadata": {},
   "outputs": [
    {
     "data": {
      "text/plain": [
       "(array([[10., 20.],\n",
       "        [30., 40.]]),\n",
       " array([1., 4.]))"
      ]
     },
     "execution_count": 44,
     "metadata": {},
     "output_type": "execute_result"
    }
   ],
   "source": [
    "Z = np.linspace(1, 4, 2)\n",
    "X, Z"
   ]
  },
  {
   "cell_type": "code",
   "execution_count": 45,
   "id": "1aea626e",
   "metadata": {},
   "outputs": [
    {
     "data": {
      "text/plain": [
       "array([[11., 24.],\n",
       "       [31., 44.]])"
      ]
     },
     "execution_count": 45,
     "metadata": {},
     "output_type": "execute_result"
    }
   ],
   "source": [
    "X + Z"
   ]
  },
  {
   "cell_type": "code",
   "execution_count": 46,
   "id": "b8e27d07",
   "metadata": {},
   "outputs": [
    {
     "data": {
      "text/plain": [
       "array([[ 10.,  80.],\n",
       "       [ 30., 160.]])"
      ]
     },
     "execution_count": 46,
     "metadata": {},
     "output_type": "execute_result"
    }
   ],
   "source": [
    "X * Z"
   ]
  },
  {
   "cell_type": "code",
   "execution_count": 47,
   "id": "7487292d",
   "metadata": {},
   "outputs": [
    {
     "data": {
      "text/plain": [
       "array([130., 180.])"
      ]
     },
     "execution_count": 47,
     "metadata": {},
     "output_type": "execute_result"
    }
   ],
   "source": [
    "Z.dot(X)"
   ]
  },
  {
   "cell_type": "code",
   "execution_count": 48,
   "id": "430f03a9",
   "metadata": {},
   "outputs": [
    {
     "data": {
      "text/plain": [
       "array([ 90., 190.])"
      ]
     },
     "execution_count": 48,
     "metadata": {},
     "output_type": "execute_result"
    }
   ],
   "source": [
    "X.dot(Z)"
   ]
  },
  {
   "cell_type": "code",
   "execution_count": 49,
   "id": "d383817f",
   "metadata": {},
   "outputs": [],
   "source": [
    "V = np.linalg.inv(X)"
   ]
  },
  {
   "cell_type": "code",
   "execution_count": 50,
   "id": "884bff0b",
   "metadata": {},
   "outputs": [
    {
     "data": {
      "text/plain": [
       "array([[-0.2 ,  0.1 ],\n",
       "       [ 0.15, -0.05]])"
      ]
     },
     "execution_count": 50,
     "metadata": {},
     "output_type": "execute_result"
    }
   ],
   "source": [
    "V"
   ]
  },
  {
   "cell_type": "code",
   "execution_count": 51,
   "id": "3f85be05",
   "metadata": {},
   "outputs": [
    {
     "data": {
      "text/plain": [
       "array([[1.0000000e+00, 0.0000000e+00],\n",
       "       [4.4408921e-16, 1.0000000e+00]])"
      ]
     },
     "execution_count": 51,
     "metadata": {},
     "output_type": "execute_result"
    }
   ],
   "source": [
    "X.dot(V)"
   ]
  },
  {
   "cell_type": "code",
   "execution_count": 52,
   "id": "8897640e",
   "metadata": {},
   "outputs": [
    {
     "data": {
      "text/plain": [
       "array([[ 1.00000000e+00,  4.44089210e-16],\n",
       "       [-1.11022302e-16,  1.00000000e+00]])"
      ]
     },
     "execution_count": 52,
     "metadata": {},
     "output_type": "execute_result"
    }
   ],
   "source": [
    "V.dot(X)"
   ]
  },
  {
   "cell_type": "code",
   "execution_count": 53,
   "id": "33d89209",
   "metadata": {
    "scrolled": false
   },
   "outputs": [
    {
     "ename": "LinAlgError",
     "evalue": "Last 2 dimensions of the array must be square",
     "output_type": "error",
     "traceback": [
      "\u001b[0;31m---------------------------------------------------------------------------\u001b[0m",
      "\u001b[0;31mLinAlgError\u001b[0m                               Traceback (most recent call last)",
      "Input \u001b[0;32mIn [53]\u001b[0m, in \u001b[0;36m<cell line: 1>\u001b[0;34m()\u001b[0m\n\u001b[0;32m----> 1\u001b[0m \u001b[43mnp\u001b[49m\u001b[38;5;241;43m.\u001b[39;49m\u001b[43mlinalg\u001b[49m\u001b[38;5;241;43m.\u001b[39;49m\u001b[43minv\u001b[49m\u001b[43m(\u001b[49m\u001b[43mnp\u001b[49m\u001b[38;5;241;43m.\u001b[39;49m\u001b[43marange\u001b[49m\u001b[43m(\u001b[49m\u001b[38;5;241;43m12\u001b[39;49m\u001b[43m)\u001b[49m\u001b[38;5;241;43m.\u001b[39;49m\u001b[43mreshape\u001b[49m\u001b[43m(\u001b[49m\u001b[38;5;241;43m3\u001b[39;49m\u001b[43m,\u001b[49m\u001b[43m \u001b[49m\u001b[38;5;241;43m4\u001b[39;49m\u001b[43m)\u001b[49m\u001b[43m)\u001b[49m\n",
      "File \u001b[0;32m<__array_function__ internals>:180\u001b[0m, in \u001b[0;36minv\u001b[0;34m(*args, **kwargs)\u001b[0m\n",
      "File \u001b[0;32m/usr/local/lib/python3.8/dist-packages/numpy/linalg/linalg.py:540\u001b[0m, in \u001b[0;36minv\u001b[0;34m(a)\u001b[0m\n\u001b[1;32m    538\u001b[0m a, wrap \u001b[38;5;241m=\u001b[39m _makearray(a)\n\u001b[1;32m    539\u001b[0m _assert_stacked_2d(a)\n\u001b[0;32m--> 540\u001b[0m \u001b[43m_assert_stacked_square\u001b[49m\u001b[43m(\u001b[49m\u001b[43ma\u001b[49m\u001b[43m)\u001b[49m\n\u001b[1;32m    541\u001b[0m t, result_t \u001b[38;5;241m=\u001b[39m _commonType(a)\n\u001b[1;32m    543\u001b[0m signature \u001b[38;5;241m=\u001b[39m \u001b[38;5;124m'\u001b[39m\u001b[38;5;124mD->D\u001b[39m\u001b[38;5;124m'\u001b[39m \u001b[38;5;28;01mif\u001b[39;00m isComplexType(t) \u001b[38;5;28;01melse\u001b[39;00m \u001b[38;5;124m'\u001b[39m\u001b[38;5;124md->d\u001b[39m\u001b[38;5;124m'\u001b[39m\n",
      "File \u001b[0;32m/usr/local/lib/python3.8/dist-packages/numpy/linalg/linalg.py:203\u001b[0m, in \u001b[0;36m_assert_stacked_square\u001b[0;34m(*arrays)\u001b[0m\n\u001b[1;32m    201\u001b[0m m, n \u001b[38;5;241m=\u001b[39m a\u001b[38;5;241m.\u001b[39mshape[\u001b[38;5;241m-\u001b[39m\u001b[38;5;241m2\u001b[39m:]\n\u001b[1;32m    202\u001b[0m \u001b[38;5;28;01mif\u001b[39;00m m \u001b[38;5;241m!=\u001b[39m n:\n\u001b[0;32m--> 203\u001b[0m     \u001b[38;5;28;01mraise\u001b[39;00m LinAlgError(\u001b[38;5;124m'\u001b[39m\u001b[38;5;124mLast 2 dimensions of the array must be square\u001b[39m\u001b[38;5;124m'\u001b[39m)\n",
      "\u001b[0;31mLinAlgError\u001b[0m: Last 2 dimensions of the array must be square"
     ]
    }
   ],
   "source": [
    "np.linalg.inv(np.arange(12).reshape(3, 4))"
   ]
  },
  {
   "cell_type": "code",
   "execution_count": 54,
   "id": "c73e425d",
   "metadata": {},
   "outputs": [
    {
     "data": {
      "text/plain": [
       "-200.0000000000001"
      ]
     },
     "execution_count": 54,
     "metadata": {},
     "output_type": "execute_result"
    }
   ],
   "source": [
    "np.linalg.det(X)"
   ]
  },
  {
   "cell_type": "code",
   "execution_count": 55,
   "id": "46ea5cc1",
   "metadata": {},
   "outputs": [
    {
     "data": {
      "text/plain": [
       "(array([-3.72281323, 53.72281323]),\n",
       " array([[-0.82456484, -0.41597356],\n",
       "        [ 0.56576746, -0.90937671]]))"
      ]
     },
     "execution_count": 55,
     "metadata": {},
     "output_type": "execute_result"
    }
   ],
   "source": [
    "np.linalg.eig(X)"
   ]
  },
  {
   "cell_type": "code",
   "execution_count": null,
   "id": "5384a913",
   "metadata": {},
   "outputs": [],
   "source": []
  }
 ],
 "metadata": {
  "kernelspec": {
   "display_name": "Python 3 (ipykernel)",
   "language": "python",
   "name": "python3"
  },
  "language_info": {
   "codemirror_mode": {
    "name": "ipython",
    "version": 3
   },
   "file_extension": ".py",
   "mimetype": "text/x-python",
   "name": "python",
   "nbconvert_exporter": "python",
   "pygments_lexer": "ipython3",
   "version": "3.8.10"
  }
 },
 "nbformat": 4,
 "nbformat_minor": 5
}
