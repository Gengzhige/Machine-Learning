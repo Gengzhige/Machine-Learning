{
 "cells": [
  {
   "cell_type": "markdown",
   "id": "34bbffdb",
   "metadata": {},
   "source": [
    "# 导入Numpy"
   ]
  },
  {
   "cell_type": "code",
   "execution_count": 1,
   "id": "579730a7",
   "metadata": {},
   "outputs": [],
   "source": [
    "import numpy as np"
   ]
  },
  {
   "cell_type": "code",
   "execution_count": 2,
   "id": "50ee55fb",
   "metadata": {},
   "outputs": [
    {
     "data": {
      "text/plain": [
       "'1.22.2'"
      ]
     },
     "execution_count": 2,
     "metadata": {},
     "output_type": "execute_result"
    }
   ],
   "source": [
    "np.__version__"
   ]
  },
  {
   "cell_type": "markdown",
   "id": "1795c6d3",
   "metadata": {},
   "source": [
    "# Numpy与原生Python的性能对比\n",
    "数组x是由 1~n数字组成\n",
    "\n",
    "求数组x的中所有数的平方之和"
   ]
  },
  {
   "cell_type": "code",
   "execution_count": 3,
   "id": "e2616405",
   "metadata": {},
   "outputs": [],
   "source": [
    "n = 1000000"
   ]
  },
  {
   "cell_type": "markdown",
   "id": "a484131f",
   "metadata": {},
   "source": [
    "### Python原生语法实现¶"
   ]
  },
  {
   "cell_type": "code",
   "execution_count": 4,
   "id": "3d334cad",
   "metadata": {},
   "outputs": [
    {
     "name": "stdout",
     "output_type": "stream",
     "text": [
      "271 ms ± 5.07 ms per loop (mean ± std. dev. of 7 runs, 1 loop each)\n"
     ]
    }
   ],
   "source": [
    "%%timeit\n",
    "x = [i for i in range(n+1)]\n",
    "sum_x = 0\n",
    "for i in x:\n",
    "    sum_x += i**2\n",
    "sum_x"
   ]
  },
  {
   "cell_type": "markdown",
   "id": "78d0c4e3",
   "metadata": {},
   "source": [
    "# Numpy实现"
   ]
  },
  {
   "cell_type": "code",
   "execution_count": 5,
   "id": "4c20850b",
   "metadata": {},
   "outputs": [
    {
     "name": "stdout",
     "output_type": "stream",
     "text": [
      "1.65 ms ± 22.2 µs per loop (mean ± std. dev. of 7 runs, 1,000 loops each)\n"
     ]
    }
   ],
   "source": [
    "%%timeit\n",
    "x = np.arange(n+1)\n",
    "sum_x = np.sum(x**2)\n",
    "sum_x"
   ]
  }
 ],
 "metadata": {
  "kernelspec": {
   "display_name": "Python 3 (ipykernel)",
   "language": "python",
   "name": "python3"
  },
  "language_info": {
   "codemirror_mode": {
    "name": "ipython",
    "version": 3
   },
   "file_extension": ".py",
   "mimetype": "text/x-python",
   "name": "python",
   "nbconvert_exporter": "python",
   "pygments_lexer": "ipython3",
   "version": "3.8.10"
  }
 },
 "nbformat": 4,
 "nbformat_minor": 5
}
